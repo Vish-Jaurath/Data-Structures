{
 "cells": [
  {
   "cell_type": "markdown",
   "metadata": {},
   "source": [
    "### Linked List"
   ]
  },
  {
   "cell_type": "code",
   "execution_count": 5,
   "metadata": {},
   "outputs": [],
   "source": [
    "class Node:\n",
    "    \n",
    "    def __init__(self, data):\n",
    "        self.data= data\n",
    "        self.next= None    "
   ]
  },
  {
   "cell_type": "code",
   "execution_count": 50,
   "metadata": {},
   "outputs": [],
   "source": [
    "class LinkedList:\n",
    "    \n",
    "    def __init__(self):\n",
    "        self.start= None\n",
    "        \n",
    "    def insert(self, value):        \n",
    "        newnode= Node(value)\n",
    "        \n",
    "        if self.start is None:\n",
    "            self.start = newnode\n",
    "        else:\n",
    "            temp= self.start\n",
    "            while temp.next is not None:\n",
    "                temp= temp.next\n",
    "                \n",
    "            temp.next= newnode    \n",
    "            \n",
    "    def viewList(self):\n",
    "        if self.start is None:\n",
    "            print('List is empty')\n",
    "        else:\n",
    "            temp= self.start\n",
    "            while temp is not None:\n",
    "                print(temp.data, end='-->')\n",
    "                temp= temp.next  \n",
    "                \n",
    "    def deleteFirst(self) :\n",
    "        if self.start is None:\n",
    "            print('List is empty')\n",
    "        else:            \n",
    "            self.start= self.start.next"
   ]
  },
  {
   "cell_type": "code",
   "execution_count": 51,
   "metadata": {},
   "outputs": [],
   "source": [
    "l= LinkedList()"
   ]
  },
  {
   "cell_type": "code",
   "execution_count": 52,
   "metadata": {},
   "outputs": [],
   "source": [
    "l.insert(3)\n",
    "l.insert(3)\n",
    "l.insert(3)\n",
    "l.insert(3)\n",
    "l.insert(4)\n",
    "l.insert(43)"
   ]
  },
  {
   "cell_type": "code",
   "execution_count": 53,
   "metadata": {},
   "outputs": [
    {
     "name": "stdout",
     "output_type": "stream",
     "text": [
      "3-->3-->3-->3-->4-->43-->"
     ]
    }
   ],
   "source": [
    "l.viewList()"
   ]
  },
  {
   "cell_type": "code",
   "execution_count": 55,
   "metadata": {},
   "outputs": [
    {
     "name": "stdout",
     "output_type": "stream",
     "text": [
      "4-->43-->"
     ]
    }
   ],
   "source": [
    "l.deleteFirst()\n",
    "l.deleteFirst()\n",
    "l.deleteFirst()\n",
    "l.viewList()"
   ]
  }
 ],
 "metadata": {
  "kernelspec": {
   "display_name": "Python 3",
   "language": "python",
   "name": "python3"
  },
  "language_info": {
   "codemirror_mode": {
    "name": "ipython",
    "version": 3
   },
   "file_extension": ".py",
   "mimetype": "text/x-python",
   "name": "python",
   "nbconvert_exporter": "python",
   "pygments_lexer": "ipython3",
   "version": "3.8.3"
  }
 },
 "nbformat": 4,
 "nbformat_minor": 4
}
