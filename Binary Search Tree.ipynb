{
 "cells": [
  {
   "cell_type": "markdown",
   "metadata": {},
   "source": [
    "## Binary Search Tree"
   ]
  },
  {
   "cell_type": "code",
   "execution_count": 1,
   "metadata": {},
   "outputs": [],
   "source": [
    "class Node:\n",
    "    \n",
    "    def __init__(self, data):\n",
    "        self.data= data\n",
    "        self.left= None\n",
    "        self.right= None"
   ]
  },
  {
   "cell_type": "code",
   "execution_count": 18,
   "metadata": {},
   "outputs": [],
   "source": [
    "class BinarySearchTree:\n",
    "    \n",
    "    def createNode(self, value):\n",
    "        newNode= Node(value)\n",
    "        return newNode\n",
    "    \n",
    "    def insert(self, currentNode, value):\n",
    "        \n",
    "        if currentNode is None:\n",
    "            return self.createNode(value)\n",
    "            \n",
    "        elif value < currentNode.data:\n",
    "            currentNode.left= self.insert(currentNode.left, value)\n",
    "            \n",
    "        else:\n",
    "            currentNode.right= self.insert(currentNode.right, value)\n",
    "            \n",
    "        return currentNode  \n",
    "    \n",
    "    def inOrderTraversal(self, root):\n",
    "        \n",
    "        if root is not None:\n",
    "            self.inOrderTraversal(root.left)\n",
    "            print(root.data)\n",
    "            self.inOrderTraversal(root.right)"
   ]
  },
  {
   "cell_type": "code",
   "execution_count": 19,
   "metadata": {},
   "outputs": [
    {
     "name": "stdout",
     "output_type": "stream",
     "text": [
      "5\n"
     ]
    }
   ],
   "source": [
    "t= BinarySearchTree()\n",
    "\n",
    "root= t.createNode(5)\n",
    "print(root.data)"
   ]
  },
  {
   "cell_type": "code",
   "execution_count": 20,
   "metadata": {},
   "outputs": [
    {
     "data": {
      "text/plain": [
       "<__main__.Node at 0x1e296be78e0>"
      ]
     },
     "execution_count": 20,
     "metadata": {},
     "output_type": "execute_result"
    }
   ],
   "source": [
    "t.insert(root, 2)\n",
    "t.insert(root, 10)\n",
    "t.insert(root, 7)\n",
    "t.insert(root, 15)\n",
    "t.insert(root, 12)\n",
    "t.insert(root, 20)\n",
    "t.insert(root, 30)\n",
    "t.insert(root, 6)\n",
    "t.insert(root, 8)"
   ]
  },
  {
   "cell_type": "code",
   "execution_count": 21,
   "metadata": {},
   "outputs": [
    {
     "name": "stdout",
     "output_type": "stream",
     "text": [
      "Inorder: \n",
      "2\n",
      "5\n",
      "6\n",
      "7\n",
      "8\n",
      "10\n",
      "12\n",
      "15\n",
      "20\n",
      "30\n"
     ]
    }
   ],
   "source": [
    "print(\"Inorder: \")\n",
    "t.inOrderTraversal(root)"
   ]
  }
 ],
 "metadata": {
  "kernelspec": {
   "display_name": "Python 3",
   "language": "python",
   "name": "python3"
  },
  "language_info": {
   "codemirror_mode": {
    "name": "ipython",
    "version": 3
   },
   "file_extension": ".py",
   "mimetype": "text/x-python",
   "name": "python",
   "nbconvert_exporter": "python",
   "pygments_lexer": "ipython3",
   "version": "3.8.3"
  }
 },
 "nbformat": 4,
 "nbformat_minor": 4
}
