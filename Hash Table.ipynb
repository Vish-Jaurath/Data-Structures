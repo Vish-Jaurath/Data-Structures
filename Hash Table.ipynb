{
 "cells": [
  {
   "cell_type": "markdown",
   "metadata": {},
   "source": [
    "## Hash Table"
   ]
  },
  {
   "cell_type": "code",
   "execution_count": 5,
   "metadata": {},
   "outputs": [],
   "source": [
    "def hash(key):\n",
    "    h=0\n",
    "    for char in key:\n",
    "        h += ord(char)\n",
    "    print(h)\n",
    "    return h%100"
   ]
  },
  {
   "cell_type": "code",
   "execution_count": 6,
   "metadata": {},
   "outputs": [
    {
     "name": "stdout",
     "output_type": "stream",
     "text": [
      "97\n"
     ]
    },
    {
     "data": {
      "text/plain": [
       "97"
      ]
     },
     "execution_count": 6,
     "metadata": {},
     "output_type": "execute_result"
    }
   ],
   "source": [
    "hash('a')"
   ]
  },
  {
   "cell_type": "code",
   "execution_count": 7,
   "metadata": {},
   "outputs": [
    {
     "name": "stdout",
     "output_type": "stream",
     "text": [
      "653\n"
     ]
    },
    {
     "data": {
      "text/plain": [
       "53"
      ]
     },
     "execution_count": 7,
     "metadata": {},
     "output_type": "execute_result"
    }
   ],
   "source": [
    "hash('march 20')"
   ]
  },
  {
   "cell_type": "markdown",
   "metadata": {},
   "source": [
    "### Class Hash"
   ]
  },
  {
   "cell_type": "code",
   "execution_count": 33,
   "metadata": {},
   "outputs": [],
   "source": [
    "class HashTable:\n",
    "    \n",
    "    def __init__(self):\n",
    "        self.max= 20\n",
    "        self.arr= [None for i in range(self.max)]\n",
    "        \n",
    "    \n",
    "    def hash(self, key):\n",
    "        h=0\n",
    "        for char in key:\n",
    "            h += ord(char)\n",
    "        return h%self.max\n",
    "    \n",
    "    def addPair(self, key, value):\n",
    "        h= self.hash(key)\n",
    "        self.arr[h]= value\n",
    "        \n",
    "    def getPair(self,key):\n",
    "        h= self.hash(key)\n",
    "        return self.arr[h]"
   ]
  },
  {
   "cell_type": "code",
   "execution_count": 43,
   "metadata": {},
   "outputs": [],
   "source": [
    "h= HashTable()\n",
    "\n",
    "h.addPair('nov 09',545)\n",
    "h.addPair('mar 19',555)\n",
    "h.addPair('dec 29',532)\n",
    "h.addPair('jun 19',451)"
   ]
  },
  {
   "cell_type": "code",
   "execution_count": 44,
   "metadata": {},
   "outputs": [
    {
     "data": {
      "text/plain": [
       "[None,\n",
       " None,\n",
       " None,\n",
       " None,\n",
       " None,\n",
       " None,\n",
       " None,\n",
       " None,\n",
       " None,\n",
       " None,\n",
       " None,\n",
       " 451,\n",
       " None,\n",
       " None,\n",
       " None,\n",
       " None,\n",
       " 545,\n",
       " None,\n",
       " 555,\n",
       " 532]"
      ]
     },
     "execution_count": 44,
     "metadata": {},
     "output_type": "execute_result"
    }
   ],
   "source": [
    "h.arr"
   ]
  },
  {
   "cell_type": "code",
   "execution_count": 36,
   "metadata": {},
   "outputs": [
    {
     "data": {
      "text/plain": [
       "555"
      ]
     },
     "execution_count": 36,
     "metadata": {},
     "output_type": "execute_result"
    }
   ],
   "source": [
    "h.getPair('dec 19')"
   ]
  },
  {
   "cell_type": "markdown",
   "metadata": {},
   "source": [
    "### Class  hash using Python operators"
   ]
  },
  {
   "cell_type": "code",
   "execution_count": 64,
   "metadata": {},
   "outputs": [],
   "source": [
    "# To support item assignment and enable subscriptable used python standard operators."
   ]
  },
  {
   "cell_type": "code",
   "execution_count": 66,
   "metadata": {},
   "outputs": [],
   "source": [
    "class HashTableNew:\n",
    "    \n",
    "    def __init__(self):\n",
    "        self.max= 10\n",
    "        self.arr= [None for i in range(self.max)]       \n",
    "    \n",
    "    def hash(self, key):\n",
    "        h=0\n",
    "        for char in key:\n",
    "            h += ord(char)\n",
    "        return h%self.max\n",
    "    \n",
    "    def __setitem__(self, key, value):\n",
    "        h= self.hash(key)\n",
    "        self.arr[h]= value\n",
    "        \n",
    "    def __getitem__(self, key):\n",
    "        h= self.hash(key)\n",
    "        return self.arr[h]\n",
    "    \n",
    "    def __delitem__(self, key):\n",
    "        h= self.hash(key)\n",
    "        self.arr[h]= None"
   ]
  },
  {
   "cell_type": "code",
   "execution_count": 67,
   "metadata": {},
   "outputs": [],
   "source": [
    "t= HashTableNew()"
   ]
  },
  {
   "cell_type": "code",
   "execution_count": 74,
   "metadata": {},
   "outputs": [],
   "source": [
    "t['19 mar']= 123 # item assignment\n",
    "t['01 jun']= 632\n",
    "t['29 aug']= 525\n",
    "t['03 apr']= 324\n",
    "t['03 apr']= 66"
   ]
  },
  {
   "cell_type": "code",
   "execution_count": 75,
   "metadata": {},
   "outputs": [
    {
     "data": {
      "text/plain": [
       "[None, None, 632, None, 66, None, 525, None, 123, None]"
      ]
     },
     "execution_count": 75,
     "metadata": {},
     "output_type": "execute_result"
    }
   ],
   "source": [
    "t.arr"
   ]
  },
  {
   "cell_type": "code",
   "execution_count": 70,
   "metadata": {},
   "outputs": [
    {
     "data": {
      "text/plain": [
       "324"
      ]
     },
     "execution_count": 70,
     "metadata": {},
     "output_type": "execute_result"
    }
   ],
   "source": [
    "t['03 apr'] #subscriptable"
   ]
  },
  {
   "cell_type": "code",
   "execution_count": 72,
   "metadata": {},
   "outputs": [],
   "source": [
    "del t['29 aug']"
   ]
  },
  {
   "cell_type": "code",
   "execution_count": 73,
   "metadata": {},
   "outputs": [
    {
     "data": {
      "text/plain": [
       "[None, None, 632, None, 324, None, None, None, 123, None]"
      ]
     },
     "execution_count": 73,
     "metadata": {},
     "output_type": "execute_result"
    }
   ],
   "source": [
    "t.arr"
   ]
  },
  {
   "cell_type": "markdown",
   "metadata": {},
   "source": [
    "### Hash Collision using Separate Chaining"
   ]
  },
  {
   "cell_type": "code",
   "execution_count": 167,
   "metadata": {},
   "outputs": [],
   "source": [
    "class HashTablCollision:\n",
    "    \n",
    "    def __init__(self):\n",
    "        self.max= 10\n",
    "        self.arr= [[] for i in range(self.max)]       \n",
    "    \n",
    "    def hash(self, key):\n",
    "        h=0\n",
    "        for char in key:\n",
    "            h += ord(char)\n",
    "        return h%self.max\n",
    "    \n",
    "    def __setitem__(self, key, value):\n",
    "        h= self.hash(key)  \n",
    "        found = False\n",
    "        for i, j in enumerate(self.arr[h]):            \n",
    "            if j[0] == key:\n",
    "                self.arr[h][i]= (key,value)  \n",
    "                found = True\n",
    "                \n",
    "        if not found:\n",
    "                self.arr[h].append((key,value))\n",
    "        \n",
    "    def __getitem__(self,key):\n",
    "        h= self.hash(key)\n",
    "        for element in (self.arr[h]):\n",
    "            if element[0] == key:\n",
    "                return element[1]\n",
    "    \n",
    "    def __delitem__(self, key):\n",
    "        h= self.hash(key)\n",
    "        for i, j in enumerate(self.arr[h]):\n",
    "            if j[0] == key:\n",
    "                del self.arr[h][i]            "
   ]
  },
  {
   "cell_type": "code",
   "execution_count": 168,
   "metadata": {},
   "outputs": [],
   "source": [
    "c= HashTablCollision()"
   ]
  },
  {
   "cell_type": "code",
   "execution_count": 169,
   "metadata": {},
   "outputs": [],
   "source": [
    "c['apr 20']=111\n",
    "c['29 aug']= 525\n",
    "c['03 apr']= 622\n",
    "c['march 6']= 622\n",
    "c['march 17']= 43"
   ]
  },
  {
   "cell_type": "code",
   "execution_count": 170,
   "metadata": {},
   "outputs": [
    {
     "data": {
      "text/plain": [
       "[[],\n",
       " [],\n",
       " [],\n",
       " [('apr 20', 111)],\n",
       " [('03 apr', 622)],\n",
       " [],\n",
       " [('29 aug', 525)],\n",
       " [],\n",
       " [],\n",
       " [('march 6', 622), ('march 17', 43)]]"
      ]
     },
     "execution_count": 170,
     "metadata": {},
     "output_type": "execute_result"
    }
   ],
   "source": [
    "c.arr"
   ]
  },
  {
   "cell_type": "code",
   "execution_count": 146,
   "metadata": {},
   "outputs": [
    {
     "data": {
      "text/plain": [
       "111"
      ]
     },
     "execution_count": 146,
     "metadata": {},
     "output_type": "execute_result"
    }
   ],
   "source": [
    "c['apr 20']"
   ]
  },
  {
   "cell_type": "code",
   "execution_count": 147,
   "metadata": {},
   "outputs": [
    {
     "data": {
      "text/plain": [
       "622"
      ]
     },
     "execution_count": 147,
     "metadata": {},
     "output_type": "execute_result"
    }
   ],
   "source": [
    "c['march 6']"
   ]
  },
  {
   "cell_type": "code",
   "execution_count": 148,
   "metadata": {},
   "outputs": [
    {
     "data": {
      "text/plain": [
       "43"
      ]
     },
     "execution_count": 148,
     "metadata": {},
     "output_type": "execute_result"
    }
   ],
   "source": [
    "c['march 17']"
   ]
  },
  {
   "cell_type": "code",
   "execution_count": 171,
   "metadata": {},
   "outputs": [],
   "source": [
    "del c['march 17']"
   ]
  },
  {
   "cell_type": "code",
   "execution_count": 172,
   "metadata": {},
   "outputs": [
    {
     "data": {
      "text/plain": [
       "[[],\n",
       " [],\n",
       " [],\n",
       " [('apr 20', 111)],\n",
       " [('03 apr', 622)],\n",
       " [],\n",
       " [('29 aug', 525)],\n",
       " [],\n",
       " [],\n",
       " [('march 6', 622)]]"
      ]
     },
     "execution_count": 172,
     "metadata": {},
     "output_type": "execute_result"
    }
   ],
   "source": [
    "c.arr"
   ]
  }
 ],
 "metadata": {
  "kernelspec": {
   "display_name": "Python 3",
   "language": "python",
   "name": "python3"
  },
  "language_info": {
   "codemirror_mode": {
    "name": "ipython",
    "version": 3
   },
   "file_extension": ".py",
   "mimetype": "text/x-python",
   "name": "python",
   "nbconvert_exporter": "python",
   "pygments_lexer": "ipython3",
   "version": "3.8.3"
  }
 },
 "nbformat": 4,
 "nbformat_minor": 4
}
